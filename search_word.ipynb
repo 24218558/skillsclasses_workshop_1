{
 "cells": [
  {
   "cell_type": "code",
   "execution_count": 14,
   "id": "fdbb05cd-7c24-466a-bc7a-79aad9830818",
   "metadata": {},
   "outputs": [
    {
     "name": "stdout",
     "output_type": "stream",
     "text": [
      "[NbConvertApp] Converting notebook search_tools.ipynb to script\n",
      "[NbConvertApp] Writing 1038 bytes to search_tools.py\n"
     ]
    }
   ],
   "source": [
    "!jupyter nbconvert --to script search_tools.ipynb"
   ]
  },
  {
   "cell_type": "code",
   "execution_count": 13,
   "id": "9791141a-dd51-4460-ba2a-0f04a2e9509b",
   "metadata": {},
   "outputs": [
    {
     "name": "stdout",
     "output_type": "stream",
     "text": [
      "[NbConvertApp] Converting notebook search_word.ipynb to script\n",
      "[NbConvertApp] Writing 3008 bytes to search_word.py\n"
     ]
    }
   ],
   "source": [
    "!jupyter nbconvert --to script search_word.ipynb"
   ]
  },
  {
   "cell_type": "code",
   "execution_count": 3,
   "id": "b5a5bf3d-aa50-4f02-baa3-1056e35aedfe",
   "metadata": {},
   "outputs": [
    {
     "ename": "ImportError",
     "evalue": "cannot import name 'AstRenderer' from 'mistune.renderers' (C:\\Users\\Patrick\\anaconda3\\envs\\urbandesignenv\\Lib\\site-packages\\mistune\\renderers\\__init__.py)",
     "output_type": "error",
     "traceback": [
      "\u001b[1;31m---------------------------------------------------------------------------\u001b[0m",
      "\u001b[1;31mImportError\u001b[0m                               Traceback (most recent call last)",
      "Cell \u001b[1;32mIn[3], line 1\u001b[0m\n\u001b[1;32m----> 1\u001b[0m \u001b[38;5;28;01mimport\u001b[39;00m \u001b[38;5;21;01mmistune\u001b[39;00m\n",
      "File \u001b[1;32m~\\anaconda3\\envs\\urbandesignenv\\Lib\\site-packages\\mistune\\__init__.py:4\u001b[0m\n\u001b[0;32m      2\u001b[0m \u001b[38;5;28;01mfrom\u001b[39;00m \u001b[38;5;21;01m.\u001b[39;00m\u001b[38;5;21;01mblock_parser\u001b[39;00m \u001b[38;5;28;01mimport\u001b[39;00m BlockParser\n\u001b[0;32m      3\u001b[0m \u001b[38;5;28;01mfrom\u001b[39;00m \u001b[38;5;21;01m.\u001b[39;00m\u001b[38;5;21;01minline_parser\u001b[39;00m \u001b[38;5;28;01mimport\u001b[39;00m InlineParser\n\u001b[1;32m----> 4\u001b[0m \u001b[38;5;28;01mfrom\u001b[39;00m \u001b[38;5;21;01m.\u001b[39;00m\u001b[38;5;21;01mrenderers\u001b[39;00m \u001b[38;5;28;01mimport\u001b[39;00m AstRenderer, HTMLRenderer\n\u001b[0;32m      5\u001b[0m \u001b[38;5;28;01mfrom\u001b[39;00m \u001b[38;5;21;01m.\u001b[39;00m\u001b[38;5;21;01mplugins\u001b[39;00m \u001b[38;5;28;01mimport\u001b[39;00m PLUGINS\n\u001b[0;32m      6\u001b[0m \u001b[38;5;28;01mfrom\u001b[39;00m \u001b[38;5;21;01m.\u001b[39;00m\u001b[38;5;21;01mutil\u001b[39;00m \u001b[38;5;28;01mimport\u001b[39;00m escape, escape_url, escape_html, unikey\n",
      "\u001b[1;31mImportError\u001b[0m: cannot import name 'AstRenderer' from 'mistune.renderers' (C:\\Users\\Patrick\\anaconda3\\envs\\urbandesignenv\\Lib\\site-packages\\mistune\\renderers\\__init__.py)"
     ]
    }
   ],
   "source": [
    "import mistune"
   ]
  },
  {
   "cell_type": "code",
   "execution_count": 2,
   "id": "0c08c7ee-5330-4723-88b6-2080c3341262",
   "metadata": {},
   "outputs": [],
   "source": [
    "#Import Modules\n",
    "import os\n",
    "import pickle\n",
    "import numpy as np\n",
    "from sklearn.feature_extraction.text import TfidfVectorizer\n",
    "from sklearn.decomposition import TruncatedSVD\n",
    "from sklearn.metrics.pairwise import cosine_similarity"
   ]
  },
  {
   "cell_type": "code",
   "execution_count": 3,
   "id": "3ee7c932-9329-4250-b0ae-56fdc39826be",
   "metadata": {},
   "outputs": [],
   "source": [
    "#Load Database (pickle_file)\n",
    "pickle_folder = os.path.join(\".\",\"pickle_file\")\n",
    "pickle_folder = os.path.join(\n",
    "    \"/Users/patrick/Library/CloudStorage/OneDrive-Personal/Documents\",\n",
    "    \"007-Study Life\",\n",
    "    \"001-Urban Design\",\n",
    "    \"RC11_Resources\",\n",
    "    \"Pickle_File\"\n",
    ")"
   ]
  },
  {
   "cell_type": "code",
   "execution_count": 4,
   "id": "2c30de68-fb3c-46a5-ad1e-e8c0f5ab6ed8",
   "metadata": {},
   "outputs": [],
   "source": [
    "#Load all pickle files and merge into single database\n",
    "database = []\n",
    "for pickle_file in os.listdir(pickle_folder):\n",
    "    if pickle_file.endswith('.pkl'):\n",
    "        with open(os.path.join(pickle_folder, pickle_file), \"rb\") as f:\n",
    "            database.extend(pickle.load(f))"
   ]
  },
  {
   "cell_type": "code",
   "execution_count": 5,
   "id": "2fa613d3-f80c-4208-beeb-66117117a026",
   "metadata": {},
   "outputs": [],
   "source": [
    "#Simple Search\n",
    "def simple_search(query, num_results=5):\n",
    "    results = []\n",
    "    query = query.lower()\n",
    "    for entry in database:\n",
    "        if query in entry['KEYWORD'].lower():\n",
    "            results.append(entry)\n",
    "    \n",
    "    results = results[:num_results]\n",
    "    \n",
    "    for result in results:\n",
    "        print(f\"TEXT: {result['TEXT']}\\nLINE: {result['LINE']}\\nBOOK: {result['BOOK']}\\nKEYWORD: {result['KEYWORD']}\\n\")\n",
    "    \n",
    "    return results"
   ]
  },
  {
   "cell_type": "code",
   "execution_count": 6,
   "id": "51dd230f-08d1-48b7-ac3f-98f63c903ffe",
   "metadata": {},
   "outputs": [],
   "source": [
    "#TF-IDF Search\n",
    "def tfidf_search(query, num_results=5):\n",
    "    documents = [entry['KEYWORD'] for entry in database]\n",
    "    vectorizer = TfidfVectorizer(min_df=2)\n",
    "    tfidf_matrix = vectorizer.fit_transform(documents)\n",
    "    query_vec = vectorizer.transform([query.lower()])\n",
    "    scores = cosine_similarity(query_vec, tfidf_matrix).flatten()\n",
    "    top_indices = scores.argsort()[-num_results:][::-1]\n",
    "    \n",
    "    results = [database[i] for i in top_indices]\n",
    "    for result in results:\n",
    "        print(f\"TEXT: {result['TEXT']}\\nLINE: {result['LINE']}\\nBOOK: {result['BOOK']}\\nKEYWORD: {result['KEYWORD']}\\n\")\n",
    "    \n",
    "    return results, vectorizer, tfidf_matrix"
   ]
  },
  {
   "cell_type": "code",
   "execution_count": 7,
   "id": "a2a05aff-e549-49eb-abff-25a70fff1bf9",
   "metadata": {},
   "outputs": [],
   "source": [
    "def svd_search(query, num_results=5):\n",
    "    documents = [entry['KEYWORD'] for entry in database]\n",
    "    vectorizer = TfidfVectorizer(min_df=2)\n",
    "    tfidf_matrix = vectorizer.fit_transform(documents)\n",
    "    svd = TruncatedSVD(n_components=100)\n",
    "    svd_matrix = svd.fit_transform(tfidf_matrix)\n",
    "    query_vec = svd.transform(vectorizer.transform([query.lower()]))\n",
    "    scores = cosine_similarity(query_vec, svd_matrix).flatten()\n",
    "    top_indices = scores.argsort()[-num_results:][::-1]\n",
    "    top_terms = [vectorizer.get_feature_names_out()[idx] for idx in svd.components_.argsort()[::-1][:10]]\n",
    "    \n",
    "    results = [database[i] for i in top_indices]\n",
    "    for result in results:\n",
    "        print(f\"TEXT: {result['TEXT']}\\nLINE: {result['LINE']}\\nBOOK: {result['BOOK']}\\nKEYWORD: {result['KEYWORD']}\\n\")\n",
    "    \n",
    "    print(\"Top Keywords:\\n\")\n",
    "    for terms in top_terms:\n",
    "        print(terms)\n",
    "\n",
    "    return results, top_terms"
   ]
  },
  {
   "cell_type": "code",
   "execution_count": 8,
   "id": "64190e02-6b6e-4dee-9e6a-03e1ae8537d8",
   "metadata": {},
   "outputs": [],
   "source": [
    "#Testing\n",
    "query = \"trend shop\""
   ]
  },
  {
   "cell_type": "code",
   "execution_count": 9,
   "id": "d1fe1caa-15f7-4b89-ab39-60a1670ac972",
   "metadata": {
    "scrolled": true
   },
   "outputs": [
    {
     "data": {
      "text/plain": [
       "[]"
      ]
     },
     "execution_count": 9,
     "metadata": {},
     "output_type": "execute_result"
    }
   ],
   "source": [
    "simple_search(query)"
   ]
  },
  {
   "cell_type": "code",
   "execution_count": 10,
   "id": "7c6a75bb-82c3-48b5-830f-1835f6588a68",
   "metadata": {},
   "outputs": [
    {
     "name": "stdout",
     "output_type": "stream",
     "text": [
      "TEXT: ·-•• future insight:social trends, drivers of change, environmental trends, economic trends, political trends- -------------·----------------------------------------------------------------------d!forestry worker perceptions of GM plant products\n",
      "LINE: 174\n",
      "BOOK: 017 - Philippe Morel VERB Nature Scan\n",
      "KEYWORD: futur insight social trend driver chang environment trend econom trend polit trend forestri worker percept plant product\n",
      "\n",
      "TEXT:  The first classification of these trends was proposed.\n",
      "LINE: 1843\n",
      "BOOK: Bernard Feltz Self-organisation and Emergence in Life Sciences\n",
      "KEYWORD: first classif trend wa\n",
      "\n",
      "TEXT: • •102 AN APPROACH TO CYBERNETiCSin the same way that the existence of AI must have been. So the man or computer manipulating 0 should. in facl, reward an evoiUlionary trend AI. At ... rather than a particular system. In order to do this, the trend must be recognized, which is much the same as recognising the similarity criteria of Chapter 5. But\n",
      "LINE: 543\n",
      "BOOK: Gordon Pask Approach to Cybernetics\n",
      "KEYWORD: approach way exist must man comput reward trend rather particular system order trend must much similar criterion chapter\n",
      "\n",
      "TEXT:  4. RESEARCH TRENDS The taxonomy of artificial living systems (cf. section 3.2) shows that all these interesting disciplines cannot be easily integrated in a single and coherent research framework: ALife is not a unitary field, but includes several different trends.\n",
      "LINE: 1842\n",
      "BOOK: Bernard Feltz Self-organisation and Emergence in Life Sciences\n",
      "KEYWORD: research trend taxonomi artifici live system section show interest disciplin cannot easili singl coher research framework unitari field sever differ trend\n",
      "\n",
      "TEXT: culture, began to pervade the very subcultures that had engaged in resistance throughtheir symbolic codes and activities. In architecture, a version of narrativity wascommodified by coffee shops, restaurants, shops and hotel lobbies, producing\n",
      "LINE: 2436\n",
      "BOOK: JAMIESON, Claire Thesis (REDACTED VERSION)\n",
      "KEYWORD: cultur pervad subcultur engag resist symbol code activ architectur version coffe shop restaur shop hotel lobbi\n",
      "\n",
      "TF-IDF Search: [{'TEXT': '·-•• future insight:social trends, drivers of change, environmental trends, economic trends, political trends- -------------·----------------------------------------------------------------------d!forestry worker perceptions of GM plant products', 'LINE': 174, 'BOOK': '017 - Philippe Morel VERB Nature Scan', 'KEYWORD': 'futur insight social trend driver chang environment trend econom trend polit trend forestri worker percept plant product'}, {'TEXT': ' The first classification of these trends was proposed.', 'LINE': 1843, 'BOOK': 'Bernard Feltz Self-organisation and Emergence in Life Sciences', 'KEYWORD': 'first classif trend wa'}, {'TEXT': '• •102 AN APPROACH TO CYBERNETiCSin the same way that the existence of AI must have been. So the man or computer manipulating 0 should. in facl, reward an evoiUlionary trend AI. At ... rather than a particular system. In order to do this, the trend must be recognized, which is much the same as recognising the similarity criteria of Chapter 5. But', 'LINE': 543, 'BOOK': 'Gordon Pask Approach to Cybernetics', 'KEYWORD': 'approach way exist must man comput reward trend rather particular system order trend must much similar criterion chapter'}, {'TEXT': ' 4. RESEARCH TRENDS The taxonomy of artificial living systems (cf. section 3.2) shows that all these interesting disciplines cannot be easily integrated in a single and coherent research framework: ALife is not a unitary field, but includes several different trends.', 'LINE': 1842, 'BOOK': 'Bernard Feltz Self-organisation and Emergence in Life Sciences', 'KEYWORD': 'research trend taxonomi artifici live system section show interest disciplin cannot easili singl coher research framework unitari field sever differ trend'}, {'TEXT': 'culture, began to pervade the very subcultures that had engaged in resistance throughtheir symbolic codes and activities. In architecture, a version of narrativity wascommodified by coffee shops, restaurants, shops and hotel lobbies, producing', 'LINE': 2436, 'BOOK': 'JAMIESON, Claire Thesis (REDACTED VERSION)', 'KEYWORD': 'cultur pervad subcultur engag resist symbol code activ architectur version coffe shop restaur shop hotel lobbi'}]\n"
     ]
    }
   ],
   "source": [
    "tfidf_results, vectorizer, tfidf_matrix = tfidf_search(query)\n",
    "print(\"TF-IDF Search:\", tfidf_results)"
   ]
  },
  {
   "cell_type": "code",
   "execution_count": 16,
   "id": "f92f0e31-3f5c-4b79-8bbd-21d09ade4ef7",
   "metadata": {},
   "outputs": [
    {
     "name": "stdout",
     "output_type": "stream",
     "text": [
      "TEXT:  They had to purchase their supplies: shops and warehouses were constructed. Streets were pushed into the dunes behind the old village; the built-up area spilled south toward the mission and north toward Washerwoman’s Lagoon.\n",
      "LINE: 1220\n",
      "BOOK: The Age of Gold - H. W. Brands\n",
      "KEYWORD: purchas suppli shop warehous street dune behind old villag built area south toward mission north toward washerwoman lagoon\n",
      "\n",
      "TEXT:  He too defers to the siren as he bends double toward her, but he also engages our gaze as he simultaneously hunches forward and looks back over his shoulder down toward the street. Figure 5.4 Maison du Grand Ecuyer, (a) (above) vielle player; (b) (below) bagpipe player Photos: (a): author; (b): Pierre Blanc The deferent postures of both these musicians suggest that they are either serenading the siren in tribute, or, on the contrary, suggesting an antidote to evil, promoting to passersby the innocent distractions that were popular in both court and street settings.\n",
      "LINE: 944\n",
      "BOOK: Architecture and the Body by Kim Sexton\n",
      "KEYWORD: siren bend doubl toward also gaze simultan hunch forward look back shoulder toward street figur grand viell player bagpip player photo author blanc defer postur musician suggest either siren tribut contrari suggest antidot evil innoc distract popular court street set\n",
      "\n",
      "TEXT:  As things happened, circumstances were quite compelling during the late 1840s and 1850s. For centuries China’s population had been growing, but with minor exceptions the land available to that population had not.\n",
      "LINE: 316\n",
      "BOOK: The Age of Gold - H. W. Brands\n",
      "KEYWORD: thing circumst quit compel late centuri china popul grow minor except land avail popul\n",
      "\n",
      "TEXT:  Figure 2.2 The Pergamon Asklepieion, SketchUp model by the author showing the Via Tecta, the colonnaded street and the covered passageway with a rendering of the colonnaded street Adapted from Hoffmann (1998), Figure 2 The approach became more definitive formally and most importantly more locotherapeutic 15 m beyond the western termination of the Via Tecta with the start of the principal colonnaded road.\n",
      "LINE: 393\n",
      "BOOK: Architecture and the Body by Kim Sexton\n",
      "KEYWORD: figur model author show via colonnad street cover passageway render colonnad street figur approach definit formal importantli beyond western termin via start princip colonnad road\n",
      "\n",
      "TEXT: 8. There is also another kind of winter dial, called theAnaphoric and constructed in the following way. The hours, indicated by bronze rods in accordance with the figure of the analemma, radiate from a centre on the face. Circles are described upon it, marking the limits of the months. Behind these rods there is a drum, on which is drawn and painted the firmament with the circle of the signs. In drawing the figures of the twelve celestial signs, one is represented larger and the next smaller, proceeding from the centre. Into the back of the drum, in the middle, a revolving axis is inserted, and round that axis is wound a flexible bronze chain, at one end of which hangs the \"cork\" which is raised by the water, and at the other a counterpoise of sand, equal in weight to the \"cork.\"\n",
      "LINE: 972\n",
      "BOOK: The Ten Books on Architecture by Vitruvius\n",
      "KEYWORD: also anoth kind winter dial follow way hour bronz rod accord figur analemma radiat face circl upon mark limit month behind rod drum drawn paint firmament circl sign draw figur twelv celesti sign one next smaller proceed back drum middl revolv axi insert round axi wound flexibl bronz chain one end cork rais water counterpois sand equal weight cork\n",
      "\n",
      "Top Keywords:\n",
      "\n",
      "['idea' 'line' 'societi' ... 'subject' 'possibl' 'order']\n",
      "['mani' 'process' 'medium' ... 'interest' 'origin' 'member']\n",
      "['imagin' 'worker' 'possibl' ... 'howev' 'set' 'futur']\n",
      "['light' 'word' 'mani' ... 'market' 'must' 'institut']\n",
      "['unit' 'object' 'mani' ... 'librari' 'order' 'interest']\n",
      "['convent' 'dream' 'modern' ... 'right' 'beauti' 'knowledg']\n",
      "['interest' 'thing' 'natur' ... 'howev' 'public' 'imagin']\n",
      "['central' 'well' 'bank' ... 'problem' 'fuller' 'know']\n",
      "['institut' 'centuri' 'die' ... 'process' 'modern' 'nation']\n",
      "['know' 'take' 'interest' ... 'market' 'organ' 'even']\n"
     ]
    }
   ],
   "source": [
    "svd_results, top_terms = svd_search(query)"
   ]
  },
  {
   "cell_type": "code",
   "execution_count": null,
   "id": "a3226a1f-165f-48d0-9648-2a79828e61c6",
   "metadata": {},
   "outputs": [],
   "source": []
  }
 ],
 "metadata": {
  "kernelspec": {
   "display_name": "Python 3 (ipykernel)",
   "language": "python",
   "name": "python3"
  },
  "language_info": {
   "codemirror_mode": {
    "name": "ipython",
    "version": 3
   },
   "file_extension": ".py",
   "mimetype": "text/x-python",
   "name": "python",
   "nbconvert_exporter": "python",
   "pygments_lexer": "ipython3",
   "version": "3.12.7"
  }
 },
 "nbformat": 4,
 "nbformat_minor": 5
}
