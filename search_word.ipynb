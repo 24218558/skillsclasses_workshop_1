{
 "cells": [
  {
   "cell_type": "code",
   "execution_count": 14,
   "id": "fdbb05cd-7c24-466a-bc7a-79aad9830818",
   "metadata": {},
   "outputs": [
    {
     "name": "stdout",
     "output_type": "stream",
     "text": [
      "[NbConvertApp] Converting notebook search_tools.ipynb to script\n",
      "[NbConvertApp] Writing 1038 bytes to search_tools.py\n"
     ]
    }
   ],
   "source": [
    "!jupyter nbconvert --to script search_tools.ipynb"
   ]
  },
  {
   "cell_type": "code",
   "execution_count": 13,
   "id": "9791141a-dd51-4460-ba2a-0f04a2e9509b",
   "metadata": {},
   "outputs": [
    {
     "name": "stdout",
     "output_type": "stream",
     "text": [
      "[NbConvertApp] Converting notebook search_word.ipynb to script\n",
      "[NbConvertApp] Writing 3008 bytes to search_word.py\n"
     ]
    }
   ],
   "source": [
    "!jupyter nbconvert --to script search_word.ipynb"
   ]
  },
  {
   "cell_type": "code",
   "execution_count": 3,
   "id": "b5a5bf3d-aa50-4f02-baa3-1056e35aedfe",
   "metadata": {},
   "outputs": [
    {
     "ename": "ImportError",
     "evalue": "cannot import name 'AstRenderer' from 'mistune.renderers' (C:\\Users\\Patrick\\anaconda3\\envs\\urbandesignenv\\Lib\\site-packages\\mistune\\renderers\\__init__.py)",
     "output_type": "error",
     "traceback": [
      "\u001b[1;31m---------------------------------------------------------------------------\u001b[0m",
      "\u001b[1;31mImportError\u001b[0m                               Traceback (most recent call last)",
      "Cell \u001b[1;32mIn[3], line 1\u001b[0m\n\u001b[1;32m----> 1\u001b[0m \u001b[38;5;28;01mimport\u001b[39;00m \u001b[38;5;21;01mmistune\u001b[39;00m\n",
      "File \u001b[1;32m~\\anaconda3\\envs\\urbandesignenv\\Lib\\site-packages\\mistune\\__init__.py:4\u001b[0m\n\u001b[0;32m      2\u001b[0m \u001b[38;5;28;01mfrom\u001b[39;00m \u001b[38;5;21;01m.\u001b[39;00m\u001b[38;5;21;01mblock_parser\u001b[39;00m \u001b[38;5;28;01mimport\u001b[39;00m BlockParser\n\u001b[0;32m      3\u001b[0m \u001b[38;5;28;01mfrom\u001b[39;00m \u001b[38;5;21;01m.\u001b[39;00m\u001b[38;5;21;01minline_parser\u001b[39;00m \u001b[38;5;28;01mimport\u001b[39;00m InlineParser\n\u001b[1;32m----> 4\u001b[0m \u001b[38;5;28;01mfrom\u001b[39;00m \u001b[38;5;21;01m.\u001b[39;00m\u001b[38;5;21;01mrenderers\u001b[39;00m \u001b[38;5;28;01mimport\u001b[39;00m AstRenderer, HTMLRenderer\n\u001b[0;32m      5\u001b[0m \u001b[38;5;28;01mfrom\u001b[39;00m \u001b[38;5;21;01m.\u001b[39;00m\u001b[38;5;21;01mplugins\u001b[39;00m \u001b[38;5;28;01mimport\u001b[39;00m PLUGINS\n\u001b[0;32m      6\u001b[0m \u001b[38;5;28;01mfrom\u001b[39;00m \u001b[38;5;21;01m.\u001b[39;00m\u001b[38;5;21;01mutil\u001b[39;00m \u001b[38;5;28;01mimport\u001b[39;00m escape, escape_url, escape_html, unikey\n",
      "\u001b[1;31mImportError\u001b[0m: cannot import name 'AstRenderer' from 'mistune.renderers' (C:\\Users\\Patrick\\anaconda3\\envs\\urbandesignenv\\Lib\\site-packages\\mistune\\renderers\\__init__.py)"
     ]
    }
   ],
   "source": [
    "import mistune"
   ]
  },
  {
   "cell_type": "code",
   "execution_count": 1,
   "id": "0c08c7ee-5330-4723-88b6-2080c3341262",
   "metadata": {},
   "outputs": [],
   "source": [
    "#Import Modules\n",
    "import os\n",
    "import pickle\n",
    "import numpy as np\n",
    "from sklearn.feature_extraction.text import TfidfVectorizer\n",
    "from sklearn.decomposition import TruncatedSVD\n",
    "from sklearn.metrics.pairwise import cosine_similarity"
   ]
  },
  {
   "cell_type": "code",
   "execution_count": 3,
   "id": "3ee7c932-9329-4250-b0ae-56fdc39826be",
   "metadata": {},
   "outputs": [],
   "source": [
    "#Load Database (pickle_file)\n",
    "pickle_folder = os.path.join(\".\",\"pickle_file\")"
   ]
  },
  {
   "cell_type": "code",
   "execution_count": 4,
   "id": "2c30de68-fb3c-46a5-ad1e-e8c0f5ab6ed8",
   "metadata": {},
   "outputs": [],
   "source": [
    "#Load all pickle files and merge into single database\n",
    "database = []\n",
    "for pickle_file in os.listdir(pickle_folder):\n",
    "    if pickle_file.endswith('.pkl'):\n",
    "        with open(os.path.join(pickle_folder, pickle_file), \"rb\") as f:\n",
    "            database.extend(pickle.load(f))"
   ]
  },
  {
   "cell_type": "code",
   "execution_count": 5,
   "id": "2fa613d3-f80c-4208-beeb-66117117a026",
   "metadata": {},
   "outputs": [],
   "source": [
    "#Simple Search\n",
    "def simple_search(query, num_results=5):\n",
    "    results = []\n",
    "    query = query.lower()\n",
    "    for entry in database:\n",
    "        if query in entry['KEYWORD'].lower():\n",
    "            results.append(entry)\n",
    "    \n",
    "    results = results[:num_results]\n",
    "    \n",
    "    for result in results:\n",
    "        print(f\"TEXT: {result['TEXT']}\\nLINE: {result['LINE']}\\nBOOK: {result['BOOK']}\\nKEYWORD: {result['KEYWORD']}\\n\")\n",
    "    \n",
    "    return results"
   ]
  },
  {
   "cell_type": "code",
   "execution_count": 6,
   "id": "51dd230f-08d1-48b7-ac3f-98f63c903ffe",
   "metadata": {},
   "outputs": [],
   "source": [
    "#TF-IDF Search\n",
    "def tfidf_search(query, num_results=5):\n",
    "    documents = [entry['KEYWORD'] for entry in database]\n",
    "    vectorizer = TfidfVectorizer(min_df=2)\n",
    "    tfidf_matrix = vectorizer.fit_transform(documents)\n",
    "    query_vec = vectorizer.transform([query.lower()])\n",
    "    scores = cosine_similarity(query_vec, tfidf_matrix).flatten()\n",
    "    top_indices = scores.argsort()[-num_results:][::-1]\n",
    "    \n",
    "    results = [database[i] for i in top_indices]\n",
    "    for result in results:\n",
    "        print(f\"TEXT: {result['TEXT']}\\nLINE: {result['LINE']}\\nBOOK: {result['BOOK']}\\nKEYWORD: {result['KEYWORD']}\\n\")\n",
    "    \n",
    "    return results, vectorizer, tfidf_matrix"
   ]
  },
  {
   "cell_type": "code",
   "execution_count": 7,
   "id": "a2a05aff-e549-49eb-abff-25a70fff1bf9",
   "metadata": {},
   "outputs": [],
   "source": [
    "def svd_search(query, num_results=5):\n",
    "    documents = [entry['KEYWORD'] for entry in database]\n",
    "    vectorizer = TfidfVectorizer(min_df=2)\n",
    "    tfidf_matrix = vectorizer.fit_transform(documents)\n",
    "    svd = TruncatedSVD(n_components=100)\n",
    "    svd_matrix = svd.fit_transform(tfidf_matrix)\n",
    "    query_vec = svd.transform(vectorizer.transform([query.lower()]))\n",
    "    scores = cosine_similarity(query_vec, svd_matrix).flatten()\n",
    "    top_indices = scores.argsort()[-num_results:][::-1]\n",
    "    top_terms = [vectorizer.get_feature_names_out()[idx] for idx in svd.components_.argsort()[::-1][:10]]\n",
    "    \n",
    "    results = [database[i] for i in top_indices]\n",
    "    for result in results:\n",
    "        print(f\"TEXT: {result['TEXT']}\\nLINE: {result['LINE']}\\nBOOK: {result['BOOK']}\\nKEYWORD: {result['KEYWORD']}\\n\")\n",
    "    \n",
    "    print(\"Top Keywords:\\n\")\n",
    "    for terms in top_terms:\n",
    "        print(terms)\n",
    "\n",
    "    return results, top_terms"
   ]
  },
  {
   "cell_type": "code",
   "execution_count": 8,
   "id": "64190e02-6b6e-4dee-9e6a-03e1ae8537d8",
   "metadata": {},
   "outputs": [],
   "source": [
    "#Testing\n",
    "query = \"shop\""
   ]
  },
  {
   "cell_type": "code",
   "execution_count": 9,
   "id": "d1fe1caa-15f7-4b89-ab39-60a1670ac972",
   "metadata": {
    "scrolled": true
   },
   "outputs": [
    {
     "name": "stdout",
     "output_type": "stream",
     "text": [
      "TEXT:  He prefers patching up a ruin to building a house; he raises shops and hovels, the abodes of inactive, vegetating, brutish poverty, under the protection of aged and ruined, yet stalwart, arches of the Roman amphitheater; and the habitations of the lower orders frequently present traces of ornament and stability of material evidently belonging to the remains of a prouder edifice.\n",
      "LINE: 119\n",
      "BOOK: The Poetry of Architecture by John Ruskin\n",
      "KEYWORD: ruin build hous rais shop hovel abod inact brutish poverti protect age ruin yet stalwart arch amphitheat habit lower order frequent present trace ornament stabil materi evid belong remain edific\n",
      "\n",
      "TEXT: —PRINCIPLES OF COMPOSITION. 162. It has lately become a custom, among the more enlightened and refined of metropolitan shopkeepers, to advocate the cause of propriety in architectural decoration, by ensconcing their shelves, counters, and clerks in classical edifices, agreeably ornamented with ingenious devices, typical of the class of articles to which the tradesman particularly desires to direct the public attention.\n",
      "LINE: 638\n",
      "BOOK: The Poetry of Architecture by John Ruskin\n",
      "KEYWORD: principl composit ha late becom custom among enlighten refin metropolitan shopkeep advoc caus proprieti architectur decor shelf counter clerk classic edific agreeabl ingeni devic typic class articl tradesman particularli desir direct public attent\n",
      "\n",
      "TEXT:  We find our grocers enshrined in temples whose columns are of canisters, and whose pinnacles are of sugar-loaves. Our shoemakers shape their soles under Gothic portals, with pendants of shoes, and canopies of Wellingtons; and our cheesemongers will, we doubt not, soon follow the excellent example, by raising shops the varied diameters of whose jointed columns, in their address to the eye, shall awaken memories of Staffa, Pæstum, and Palmyra; and in their address to the tongue, shall arouse exquisite associations of remembered flavor, Dutch, Stilton, and Strachino.\n",
      "LINE: 639\n",
      "BOOK: The Poetry of Architecture by John Ruskin\n",
      "KEYWORD: find grocer templ whose column canist whose pinnacl sugar loaf shoemak shape sol portal pendant shoe canopi wellington cheesemong doubt soon follow excel exampl rais shop vari diamet whose joint column address eye shall awaken memori palmyra address tongu shall arous exquisit associ flavor dutch\n",
      "\n",
      "TEXT:  Our national architecture never will improve until our population are generally convinced that in this art, as in all others, they cannot seem what they cannot be. The scarlet coat or the turned-down collar, which the obsequious portrait-painter puts on the shoulders and off the necks of his savage or insane customers, never can make the 'prentice look military, or the idiot poetical; and the architectural appurtenances of Norman embrasure or Veronaic balcony must be equally ineffective, until they can turn shopkeepers into barons, and schoolgirls into Juliets.\n",
      "LINE: 975\n",
      "BOOK: The Poetry of Architecture by John Ruskin\n",
      "KEYWORD: nation architectur never improv popul gener convinc art cannot seem cannot scarlet coat turn collar obsequi portrait painter put shoulder neck savag insan custom never make prentic look militari idiot poetic architectur appurten embrasur balconi must equal ineffect turn shopkeep baron schoolgirl\n",
      "\n",
      "TEXT:  When Marshall explained the cause of his excitement, the two men retired to Sutter’s office on the second floor of the building at the center of the fort. They consulted Sutter’s Encyclopaedia Americana, which had a long article describing the properties of gold. The apothecary shop at the fort possessed some aqua fortis—nitric acid—which Sutter sent a servant to fetch. Marshall’s samples withstood the acid—a strong indication of gold. To determine the density of the metal, they reproduced Archimedes’ famous experiment. They placed in one pan of a scales a quantity of Marshall’s sample sufficient to balance three silver dollars in the other pan; then they immersed the scales in water, whereupon the pan with the sample sank, revealing the greater density of the sample—again, as expected of gold.\n",
      "LINE: 104\n",
      "BOOK: The Age of Gold - H. W. Brands\n",
      "KEYWORD: caus excit two men retir offic second floor build center fort long articl properti gold apothecari shop fort possess aqua forti nitric acid sent servant fetch sampl withstood acid strong indic gold determin densiti metal famou experi one pan scale quantiti sampl suffici balanc three silver dollar pan scale water whereupon pan sampl sank reveal greater densiti sampl gold\n",
      "\n"
     ]
    },
    {
     "data": {
      "text/plain": [
       "[{'TEXT': ' He prefers patching up a ruin to building a house; he raises shops and hovels, the abodes of inactive, vegetating, brutish poverty, under the protection of aged and ruined, yet stalwart, arches of the Roman amphitheater; and the habitations of the lower orders frequently present traces of ornament and stability of material evidently belonging to the remains of a prouder edifice.',\n",
       "  'LINE': 119,\n",
       "  'BOOK': 'The Poetry of Architecture by John Ruskin',\n",
       "  'KEYWORD': 'ruin build hous rais shop hovel abod inact brutish poverti protect age ruin yet stalwart arch amphitheat habit lower order frequent present trace ornament stabil materi evid belong remain edific'},\n",
       " {'TEXT': '—PRINCIPLES OF COMPOSITION. 162. It has lately become a custom, among the more enlightened and refined of metropolitan shopkeepers, to advocate the cause of propriety in architectural decoration, by ensconcing their shelves, counters, and clerks in classical edifices, agreeably ornamented with ingenious devices, typical of the class of articles to which the tradesman particularly desires to direct the public attention.',\n",
       "  'LINE': 638,\n",
       "  'BOOK': 'The Poetry of Architecture by John Ruskin',\n",
       "  'KEYWORD': 'principl composit ha late becom custom among enlighten refin metropolitan shopkeep advoc caus proprieti architectur decor shelf counter clerk classic edific agreeabl ingeni devic typic class articl tradesman particularli desir direct public attent'},\n",
       " {'TEXT': ' We find our grocers enshrined in temples whose columns are of canisters, and whose pinnacles are of sugar-loaves. Our shoemakers shape their soles under Gothic portals, with pendants of shoes, and canopies of Wellingtons; and our cheesemongers will, we doubt not, soon follow the excellent example, by raising shops the varied diameters of whose jointed columns, in their address to the eye, shall awaken memories of Staffa, Pæstum, and Palmyra; and in their address to the tongue, shall arouse exquisite associations of remembered flavor, Dutch, Stilton, and Strachino.',\n",
       "  'LINE': 639,\n",
       "  'BOOK': 'The Poetry of Architecture by John Ruskin',\n",
       "  'KEYWORD': 'find grocer templ whose column canist whose pinnacl sugar loaf shoemak shape sol portal pendant shoe canopi wellington cheesemong doubt soon follow excel exampl rais shop vari diamet whose joint column address eye shall awaken memori palmyra address tongu shall arous exquisit associ flavor dutch'},\n",
       " {'TEXT': \" Our national architecture never will improve until our population are generally convinced that in this art, as in all others, they cannot seem what they cannot be. The scarlet coat or the turned-down collar, which the obsequious portrait-painter puts on the shoulders and off the necks of his savage or insane customers, never can make the 'prentice look military, or the idiot poetical; and the architectural appurtenances of Norman embrasure or Veronaic balcony must be equally ineffective, until they can turn shopkeepers into barons, and schoolgirls into Juliets.\",\n",
       "  'LINE': 975,\n",
       "  'BOOK': 'The Poetry of Architecture by John Ruskin',\n",
       "  'KEYWORD': 'nation architectur never improv popul gener convinc art cannot seem cannot scarlet coat turn collar obsequi portrait painter put shoulder neck savag insan custom never make prentic look militari idiot poetic architectur appurten embrasur balconi must equal ineffect turn shopkeep baron schoolgirl'},\n",
       " {'TEXT': ' When Marshall explained the cause of his excitement, the two men retired to Sutter’s office on the second floor of the building at the center of the fort. They consulted Sutter’s Encyclopaedia Americana, which had a long article describing the properties of gold. The apothecary shop at the fort possessed some aqua fortis—nitric acid—which Sutter sent a servant to fetch. Marshall’s samples withstood the acid—a strong indication of gold. To determine the density of the metal, they reproduced Archimedes’ famous experiment. They placed in one pan of a scales a quantity of Marshall’s sample sufficient to balance three silver dollars in the other pan; then they immersed the scales in water, whereupon the pan with the sample sank, revealing the greater density of the sample—again, as expected of gold.',\n",
       "  'LINE': 104,\n",
       "  'BOOK': 'The Age of Gold - H. W. Brands',\n",
       "  'KEYWORD': 'caus excit two men retir offic second floor build center fort long articl properti gold apothecari shop fort possess aqua forti nitric acid sent servant fetch sampl withstood acid strong indic gold determin densiti metal famou experi one pan scale quantiti sampl suffici balanc three silver dollar pan scale water whereupon pan sampl sank reveal greater densiti sampl gold'}]"
      ]
     },
     "execution_count": 9,
     "metadata": {},
     "output_type": "execute_result"
    }
   ],
   "source": [
    "simple_search(query)"
   ]
  },
  {
   "cell_type": "code",
   "execution_count": 10,
   "id": "7c6a75bb-82c3-48b5-830f-1835f6588a68",
   "metadata": {},
   "outputs": [
    {
     "name": "stdout",
     "output_type": "stream",
     "text": [
      "TEXT: Early on, we did everything we could to avoid exhibiting work in a white cube and everything it stood for. We showed in shop windows, homes, shopping centers, cafes, gardens. But always, the work became about the space itself, or the context, rather than the ideas we wished to explore.\n",
      "LINE: 623\n",
      "BOOK: Speculative Everything by Anthony Dunne\n",
      "KEYWORD: earli everyth could avoid work white cube everyth stood shop window home shop center garden alway work space context rather idea wish explor\n",
      "\n",
      "TEXT:  I remember another shebeen — a rum shop, it’s called there — in a village in Dominica. One night some friends and I drive through country darkness, stopped where the car could go no further, and climbed a hill, bumping into tree stumps, arriving at a rum shop.\n",
      "LINE: 443\n",
      "BOOK: A Map to the Door of No Return - Dionne Brand\n",
      "KEYWORD: rememb anoth shebeen rum shop villag one night friend drive countri dark stop car could hill bump tree stump rum shop\n",
      "\n",
      "TEXT:  This trend is also reflected in “free stores” or “give-away shops,” which work like second-hand shops, just without money and without the logic of exchange. These are not to be understood as places where things are “given,” that is, transferred from one private owner to another, but as places where people bring things that have “fallen out of possession,” since they are no longer used.\n",
      "LINE: 2568\n",
      "BOOK: Society After Money Dialogue\n",
      "KEYWORD: trend also reflect free store give away shop work like second hand shop without money without logic exchang understood place thing given transfer one privat owner anoth place peopl bring thing fallen possess sinc longer use\n",
      "\n",
      "TEXT:  On one of his visits to Sacramento he discovered an opportunity in commerce, and so opened a general store on K Street, not far from where Leland Stanford set up shop..\n",
      "LINE: 2106\n",
      "BOOK: The Age of Gold - H. W. Brands\n",
      "KEYWORD: one visit discov opportun commerc gener store street far set shop\n",
      "\n",
      "TEXT:  Being a ritual passage as a part of a pastoral Herculean landscape, the latter was like the Via Tecta in Pergamon in that it was multi-functional and included market halls and shops (Tilburg, 2007, p.\n",
      "LINE: 390\n",
      "BOOK: Architecture and the Body by Kim Sexton\n",
      "KEYWORD: ritual passag part pastor landscap latter wa like via wa function includ market hall shop\n",
      "\n",
      "TF-IDF Search: [{'TEXT': 'Early on, we did everything we could to avoid exhibiting work in a white cube and everything it stood for. We showed in shop windows, homes, shopping centers, cafes, gardens. But always, the work became about the space itself, or the context, rather than the ideas we wished to explore.', 'LINE': 623, 'BOOK': 'Speculative Everything by Anthony Dunne', 'KEYWORD': 'earli everyth could avoid work white cube everyth stood shop window home shop center garden alway work space context rather idea wish explor'}, {'TEXT': ' I remember another shebeen — a rum shop, it’s called there — in a village in Dominica. One night some friends and I drive through country darkness, stopped where the car could go no further, and climbed a hill, bumping into tree stumps, arriving at a rum shop.', 'LINE': 443, 'BOOK': 'A Map to the Door of No Return - Dionne Brand', 'KEYWORD': 'rememb anoth shebeen rum shop villag one night friend drive countri dark stop car could hill bump tree stump rum shop'}, {'TEXT': ' This trend is also reflected in “free stores” or “give-away shops,” which work like second-hand shops, just without money and without the logic of exchange. These are not to be understood as places where things are “given,” that is, transferred from one private owner to another, but as places where people bring things that have “fallen out of possession,” since they are no longer used.', 'LINE': 2568, 'BOOK': 'Society After Money Dialogue', 'KEYWORD': 'trend also reflect free store give away shop work like second hand shop without money without logic exchang understood place thing given transfer one privat owner anoth place peopl bring thing fallen possess sinc longer use'}, {'TEXT': ' On one of his visits to Sacramento he discovered an opportunity in commerce, and so opened a general store on K Street, not far from where Leland Stanford set up shop..', 'LINE': 2106, 'BOOK': 'The Age of Gold - H. W. Brands', 'KEYWORD': 'one visit discov opportun commerc gener store street far set shop'}, {'TEXT': ' Being a ritual passage as a part of a pastoral Herculean landscape, the latter was like the Via Tecta in Pergamon in that it was multi-functional and included market halls and shops (Tilburg, 2007, p.', 'LINE': 390, 'BOOK': 'Architecture and the Body by Kim Sexton', 'KEYWORD': 'ritual passag part pastor landscap latter wa like via wa function includ market hall shop'}]\n"
     ]
    }
   ],
   "source": [
    "tfidf_results, vectorizer, tfidf_matrix = tfidf_search(query)\n",
    "print(\"TF-IDF Search:\", tfidf_results)"
   ]
  },
  {
   "cell_type": "code",
   "execution_count": 11,
   "id": "f92f0e31-3f5c-4b79-8bbd-21d09ade4ef7",
   "metadata": {},
   "outputs": [
    {
     "name": "stdout",
     "output_type": "stream",
     "text": [
      "TEXT:  They had to purchase their supplies: shops and warehouses were constructed. Streets were pushed into the dunes behind the old village; the built-up area spilled south toward the mission and north toward Washerwoman’s Lagoon.\n",
      "LINE: 1220\n",
      "BOOK: The Age of Gold - H. W. Brands\n",
      "KEYWORD: purchas suppli shop warehous street dune behind old villag built area south toward mission north toward washerwoman lagoon\n",
      "\n",
      "TEXT:  Factories and workshops were sited in the middle of residential areas, emitting smoke and deadly effluents. Children played in courtyards awash with raw sewage. Cholera and tuberculosis were a constant threat.\n",
      "LINE: 787\n",
      "BOOK: The Architecture of Happiness by Alain de Botton\n",
      "KEYWORD: factori workshop middl residenti area smoke deadli effluent child courtyard awash raw sewag cholera tuberculosi constant threat\n",
      "\n",
      "TEXT:  For example, an extended scene in the 1968 television special Dialoog in Het Dorp showed an attractive young woman carefully selecting, testing, and purchasing a lipstick in downtown Arnhem and then cut to a long close-up of her face reflected in her home bathroom mirror, mounted at the precise downward angle needed for her position in her wheelchair.\n",
      "LINE: 1915\n",
      "BOOK: Architecture and the Body by Kim Sexton\n",
      "KEYWORD: exampl extend scene televis special het dorp attract young woman care test lipstick downtown cut long close face reflect home bathroom mirror mount precis downward angl posit\n",
      "\n",
      "TEXT:  Designed by Jaap Bakema (1914–1981), a cluster of low-slung monolithic brick buildings, topped by yellow painted fascias, emerges below in a pastoral scene of meadow and trees (Figure 11.2a). The entrance to Het Dorp turns off the main road into a parking lot, edged by a few small shops, ending vehicular connection to the surrounding neighborhood.\n",
      "LINE: 1781\n",
      "BOOK: Architecture and the Body by Kim Sexton\n",
      "KEYWORD: design cluster low slung monolith brick build top yellow paint fascia pastor scene meadow tree figur entranc het dorp turn main road park lot edg small shop end vehicular connect surround neighborhood\n",
      "\n",
      "TEXT:  Figure 11.1 Van den Broek and Bakema, Het Dorp, Arnhem, Netherlands, 1963–65, aerial perspective view from the southwest (‘Het Dorp: A Village’) Photo: Collection Het Nieuwe Instituut/BROX Figure 11.2 Het Dorp, (a) (above) view of shops from plaza; (b) (below) residents in road among low housing units near the top of the site Photos: author Several things are striking about the village Bakema and the Dutch public built.\n",
      "LINE: 1786\n",
      "BOOK: Architecture and the Body by Kim Sexton\n",
      "KEYWORD: figur van den het dorp aerial perspect view southwest het dorp villag photo collect het figur het dorp view shop plaza resid road among low hous unit near top site photo author sever thing strike villag dutch public built\n",
      "\n",
      "Top Keywords:\n",
      "\n",
      "['modern' 'know' 'market' ... 'origin' 'capit' 'commun']\n",
      "['made' 'structur' 'commun' ... 'use' 'good' 'relat']\n",
      "['power' 'treati' 'well' ... 'origin' 'know' 'structur']\n",
      "['scienc' 'object' 'problem' ... 'must' 'commun' 'critic']\n",
      "['made' 'gener' 'die' ... 'case' 'alway' 'modern']\n",
      "['die' 'librari' 'technolog' ... 'avail' 'even' 'imagin']\n",
      "['howev' 'mani' 'right' ... 'must' 'know' 'object']\n",
      "['dream' 'even' 'critic' ... 'water' 'page' 'take']\n",
      "['knowledg' 'relat' 'imagin' ... 'interest' 'gener' 'word']\n",
      "['unit' 'imagin' 'thing' ... 'worker' 'process' 'market']\n"
     ]
    }
   ],
   "source": [
    "svd_results, top_terms = svd_search(query)"
   ]
  },
  {
   "cell_type": "code",
   "execution_count": null,
   "id": "a3226a1f-165f-48d0-9648-2a79828e61c6",
   "metadata": {},
   "outputs": [],
   "source": []
  }
 ],
 "metadata": {
  "kernelspec": {
   "display_name": "Python 3 (ipykernel)",
   "language": "python",
   "name": "python3"
  },
  "language_info": {
   "codemirror_mode": {
    "name": "ipython",
    "version": 3
   },
   "file_extension": ".py",
   "mimetype": "text/x-python",
   "name": "python",
   "nbconvert_exporter": "python",
   "pygments_lexer": "ipython3",
   "version": "3.12.7"
  }
 },
 "nbformat": 4,
 "nbformat_minor": 5
}
