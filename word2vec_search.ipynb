{
 "cells": [
  {
   "cell_type": "code",
   "execution_count": 1,
   "id": "fe07d1f6-dd45-4ae6-8ac2-4281f06a6810",
   "metadata": {},
   "outputs": [],
   "source": [
    "import os\n",
    "import pickle\n",
    "from gensim.models import Word2Vec\n",
    "from nltk.tokenize import word_tokenize\n",
    "import nltk"
   ]
  },
  {
   "cell_type": "code",
   "execution_count": 2,
   "id": "70cbb422-9bfe-447f-bbda-f38b9176049a",
   "metadata": {},
   "outputs": [],
   "source": [
    "#Load Database (pickle_file)\n",
    "pickle_folder = os.path.join(\".\",\"pickle_file\")"
   ]
  },
  {
   "cell_type": "code",
   "execution_count": 3,
   "id": "a7602c3c-d157-4499-8d68-a7b23ff1d11d",
   "metadata": {},
   "outputs": [],
   "source": [
    "#Load all pickle files and merge into single database\n",
    "database = []\n",
    "for pickle_file in os.listdir(pickle_folder):\n",
    "    if pickle_file.endswith('.pkl'):\n",
    "        with open(os.path.join(pickle_folder, pickle_file), \"rb\") as f:\n",
    "            database.extend(pickle.load(f))"
   ]
  },
  {
   "cell_type": "code",
   "execution_count": 4,
   "id": "80e4b0b0-6bcf-43f1-81ac-4170523942f2",
   "metadata": {},
   "outputs": [
    {
     "ename": "NameError",
     "evalue": "name 'sentences' is not defined",
     "output_type": "error",
     "traceback": [
      "\u001b[0;31m---------------------------------------------------------------------------\u001b[0m",
      "\u001b[0;31mNameError\u001b[0m                                 Traceback (most recent call last)",
      "Cell \u001b[0;32mIn[4], line 1\u001b[0m\n\u001b[0;32m----> 1\u001b[0m tokenized_sentences \u001b[38;5;241m=\u001b[39m [word_tokenize(sentence[\u001b[38;5;124m'\u001b[39m\u001b[38;5;124mTEXT\u001b[39m\u001b[38;5;124m'\u001b[39m]\u001b[38;5;241m.\u001b[39mlower()) \u001b[38;5;28;01mfor\u001b[39;00m sentence \u001b[38;5;129;01min\u001b[39;00m sentences]\n",
      "\u001b[0;31mNameError\u001b[0m: name 'sentences' is not defined"
     ]
    }
   ],
   "source": [
    "tokenized_sentences = [word_tokenize(paragraphs['TEXT'].lower()) for sentence in sentences]"
   ]
  },
  {
   "cell_type": "code",
   "execution_count": null,
   "id": "bf4def84-30db-45f9-8643-69898c8dbfa3",
   "metadata": {},
   "outputs": [],
   "source": [
    "with open('tokenized_sentences.pickle', 'wb') as token_file:\n",
    "    pickle.dump(tokenized_sentences, token_file)"
   ]
  },
  {
   "cell_type": "code",
   "execution_count": null,
   "id": "07242dbd-a33a-44cb-a027-5c95b47ecaf6",
   "metadata": {},
   "outputs": [],
   "source": [
    "# with a larger set:\n",
    "with open('tokenized_sentences.pickle', 'rb') as gerkin:\n",
    "    tokenized_sentences = pickle.load(gerkin)"
   ]
  },
  {
   "cell_type": "code",
   "execution_count": null,
   "id": "8750fc77-8bdc-4576-8a3a-9f7639e511a0",
   "metadata": {},
   "outputs": [],
   "source": [
    "w2v_model = Word2Vec(sentences=tokenized_sentences, vector_size=50, window=3, min_count=5, workers=4)"
   ]
  },
  {
   "cell_type": "code",
   "execution_count": null,
   "id": "47c8fb7c-b732-4c16-bcc5-681977562755",
   "metadata": {},
   "outputs": [],
   "source": [
    "# Example: get vector for a specific word\n",
    "word = 'shop'\n",
    "word_vector = w2v_model.wv[word]\n",
    "print(f\"Vector for {word} :\\n\", word_vector)\n",
    "\n",
    "similar_words = w2v_model.wv.most_similar(word, topn=3)\n",
    "print(f\"Words similar to {word}:\", similar_words)"
   ]
  }
 ],
 "metadata": {
  "kernelspec": {
   "display_name": "Python 3 (ipykernel)",
   "language": "python",
   "name": "python3"
  },
  "language_info": {
   "codemirror_mode": {
    "name": "ipython",
    "version": 3
   },
   "file_extension": ".py",
   "mimetype": "text/x-python",
   "name": "python",
   "nbconvert_exporter": "python",
   "pygments_lexer": "ipython3",
   "version": "3.12.7"
  }
 },
 "nbformat": 4,
 "nbformat_minor": 5
}
