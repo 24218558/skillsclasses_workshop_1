{
 "cells": [
  {
   "cell_type": "code",
   "execution_count": 1,
   "id": "45e1b03f-5cca-4f49-adde-0bfcae567e0e",
   "metadata": {},
   "outputs": [],
   "source": [
    "import csv"
   ]
  },
  {
   "cell_type": "code",
   "execution_count": 3,
   "id": "ff2d4369-dd86-4dbc-9873-17e3235c4364",
   "metadata": {},
   "outputs": [
    {
     "name": "stdout",
     "output_type": "stream",
     "text": [
      "csvDemo.csv file has been created successfully.\n"
     ]
    }
   ],
   "source": [
    "# Define the data \n",
    "data = [ \n",
    "    [\"Name\", \"Age\", \"City\"], \n",
    "    [\"Alice\", 28, \"London\"], \n",
    "    [\"Bob\", 34, \"Manchester\"], \n",
    "    [\"Charlie\", 22, \"Liverpool\"], \n",
    "    [\"Diana\", 29, \"Birmingham\"], \n",
    "    [\"Edward\", 41, \"Leeds\"] \n",
    "] \n",
    "\n",
    "# Write the data to csvDemo.csv \n",
    "with open('csvDemo.csv', 'w', newline='') as file: \n",
    "    writer = csv.writer(file) \n",
    "    writer.writerows(data) \n",
    "    print(\"csvDemo.csv file has been created successfully.\")"
   ]
  },
  {
   "cell_type": "code",
   "execution_count": 5,
   "id": "d07739a7-53ed-473b-bf35-024ddb0d0e4f",
   "metadata": {},
   "outputs": [
    {
     "name": "stdout",
     "output_type": "stream",
     "text": [
      "['Name', 'Age', 'City']\n",
      "['Alice', '28', 'London']\n",
      "['Bob', '34', 'Manchester']\n",
      "['Charlie', '22', 'Liverpool']\n",
      "['Diana', '29', 'Birmingham']\n",
      "['Edward', '41', 'Leeds']\n"
     ]
    }
   ],
   "source": [
    "with open('csvDemo.csv') as csvfile:\n",
    "    reader = csv.reader(csvfile)\n",
    "    for r in reader:\n",
    "        print(r) "
   ]
  },
  {
   "cell_type": "code",
   "execution_count": 7,
   "id": "f81accd4-e05a-49b4-ac83-0fc02289d60a",
   "metadata": {},
   "outputs": [
    {
     "data": {
      "text/plain": [
       "['Leeds', 'Leeds', 'Leeds', 'Leeds', 'Leeds']"
      ]
     },
     "execution_count": 7,
     "metadata": {},
     "output_type": "execute_result"
    }
   ],
   "source": [
    "['Leeds']*5"
   ]
  },
  {
   "cell_type": "code",
   "execution_count": 8,
   "id": "6076a39c-44f9-40ac-a05f-b8e4b3245d44",
   "metadata": {},
   "outputs": [
    {
     "name": "stdout",
     "output_type": "stream",
     "text": [
      "['Name', 'Age', 'City']\n",
      "['Alice', '28', 'London']\n",
      "['Bob', '34', 'Manchester']\n",
      "['Charlie', '22', 'Liverpool']\n",
      "['Diana', '29', 'Birmingham']\n",
      "['Edward', '41', 'Leeds']\n"
     ]
    }
   ],
   "source": [
    "with open('csvDemo.csv') as csvfile:\n",
    "    reader = csv.reader(csvfile)\n",
    "    for r in reader:\n",
    "        print(r) "
   ]
  },
  {
   "cell_type": "code",
   "execution_count": 12,
   "id": "a3909e91-2ae1-40af-92d4-914067738d2a",
   "metadata": {},
   "outputs": [],
   "source": [
    "with open('csvDemo.csv', 'w') as csvfile:\n",
    "    writer = csv.writer(csvfile)\n",
    "    writer.writerow(\"Patrick\")"
   ]
  },
  {
   "cell_type": "code",
   "execution_count": 13,
   "id": "b74c33cd-cede-4e0f-b68c-6fada1770793",
   "metadata": {},
   "outputs": [
    {
     "name": "stdout",
     "output_type": "stream",
     "text": [
      "['P', 'a', 't', 'r', 'i', 'c', 'k']\n",
      "[]\n"
     ]
    }
   ],
   "source": [
    "with open('csvDemo.csv') as csvfile:\n",
    "    reader = csv.reader(csvfile)\n",
    "    for r in reader:\n",
    "        print(r) "
   ]
  },
  {
   "cell_type": "code",
   "execution_count": 14,
   "id": "06791d3a-e6b5-4cb7-a8b9-74e6e7f44e3a",
   "metadata": {},
   "outputs": [
    {
     "name": "stdout",
     "output_type": "stream",
     "text": [
      "csvDemo.csv file has been created successfully.\n"
     ]
    }
   ],
   "source": [
    "with open('csvDemo.csv', 'w', newline='') as file: \n",
    "    writer = csv.writer(file) \n",
    "    writer.writerows(data) \n",
    "    print(\"csvDemo.csv file has been created successfully.\")"
   ]
  },
  {
   "cell_type": "code",
   "execution_count": 15,
   "id": "d823bab7-1cee-4d92-aa17-b47c468b59a2",
   "metadata": {},
   "outputs": [
    {
     "name": "stdout",
     "output_type": "stream",
     "text": [
      "['Name', 'Age', 'City']\n",
      "['Alice', '28', 'London']\n",
      "['Bob', '34', 'Manchester']\n",
      "['Charlie', '22', 'Liverpool']\n",
      "['Diana', '29', 'Birmingham']\n",
      "['Edward', '41', 'Leeds']\n"
     ]
    }
   ],
   "source": [
    "with open('csvDemo.csv') as csvfile:\n",
    "    reader = csv.reader(csvfile)\n",
    "    for r in reader:\n",
    "        print(r) "
   ]
  },
  {
   "cell_type": "code",
   "execution_count": 16,
   "id": "606b8af5-4a7f-49b8-b59f-972f98d3f54b",
   "metadata": {},
   "outputs": [],
   "source": [
    "with open('csvDemo.csv', 'w') as csvfile:\n",
    "    writer = csv.writer(csvfile)\n",
    "    writer.writerow([\"Patrick\"]*5)"
   ]
  },
  {
   "cell_type": "code",
   "execution_count": 17,
   "id": "d3442249-8977-4a92-9e33-5cb33afe2c1b",
   "metadata": {},
   "outputs": [
    {
     "name": "stdout",
     "output_type": "stream",
     "text": [
      "['Patrick', 'Patrick', 'Patrick', 'Patrick', 'Patrick']\n",
      "[]\n"
     ]
    }
   ],
   "source": [
    "with open('csvDemo.csv') as csvfile:\n",
    "    reader = csv.reader(csvfile)\n",
    "    for r in reader:\n",
    "        print(r) "
   ]
  },
  {
   "cell_type": "code",
   "execution_count": 18,
   "id": "73449dc7-6f38-488b-a1c7-a35ec0957650",
   "metadata": {},
   "outputs": [
    {
     "name": "stdout",
     "output_type": "stream",
     "text": [
      "csvDemo.csv file has been created successfully.\n"
     ]
    }
   ],
   "source": [
    "with open('csvDemo.csv', 'a', newline='') as file: \n",
    "    writer = csv.writer(file) \n",
    "    writer.writerows(data) \n",
    "    print(\"csvDemo.csv file has been created successfully.\")"
   ]
  },
  {
   "cell_type": "code",
   "execution_count": 26,
   "id": "d34b3e6e-4956-41a5-9465-948e2cf49412",
   "metadata": {},
   "outputs": [
    {
     "name": "stdout",
     "output_type": "stream",
     "text": [
      "['Patrick', 'Patrick', 'Patrick', 'Patrick', 'Patrick']\n",
      "['Name', 'Age', 'City']\n",
      "['Alice', '28', 'London']\n",
      "['Bob', '34', 'Manchester']\n",
      "['Charlie', '22', 'Liverpool']\n",
      "['Diana', '29', 'Birmingham']\n",
      "['Edward', '41', 'Leeds']\n",
      "['Patrick', 'Patrick', 'Patrick', 'Patrick', 'Patrick']\n",
      "['Name', 'Age', 'City']\n",
      "['Alice', '28', 'London']\n",
      "['Bob', '34', 'Manchester']\n",
      "['Charlie', '22', 'Liverpool']\n",
      "['Diana', '29', 'Birmingham']\n",
      "['Edward', '41', 'Leeds']\n"
     ]
    }
   ],
   "source": [
    "with open('csvDemo.csv') as csvfile:\n",
    "    reader = csv.reader(csvfile)\n",
    "    for r in reader:\n",
    "        print(r) "
   ]
  },
  {
   "cell_type": "code",
   "execution_count": 30,
   "id": "30c462c2-0961-437c-8579-c2903c8e52e6",
   "metadata": {},
   "outputs": [
    {
     "name": "stdout",
     "output_type": "stream",
     "text": [
      "csvDemo.csv file has been created successfully.\n"
     ]
    }
   ],
   "source": [
    "with open('csvDemo.csv', 'r') as csvfile: \n",
    "    reader = list(csv.reader(csvfile))\n",
    "\n",
    "    if len(reader) >= 14:\n",
    "        del reader[7:13]\n",
    "\n",
    "with open('csvDemo.csv', 'w', newline='') as csvfile: \n",
    "    writer = csv.writer(csvfile) \n",
    "    writer.writerows(reader) \n",
    "    print(\"csvDemo.csv file has been created successfully.\")"
   ]
  },
  {
   "cell_type": "code",
   "execution_count": 54,
   "id": "479dff32-31fe-4745-90e5-0e3984760891",
   "metadata": {},
   "outputs": [
    {
     "name": "stdout",
     "output_type": "stream",
     "text": [
      "['0', '0', '0', '0', '0', '0', '0', '0', '0', '0']\n",
      "['0', '1', '2', '3', '4', '5', '6', '7', '8', '9']\n",
      "['0', '2', '4', '6', '8', '10', '12', '14', '16', '18']\n",
      "['0', '3', '6', '9', '12', '15', '18', '21', '24', '27']\n",
      "['0', '4', '8', '12', '16', '20', '24', '28', '32', '36']\n",
      "['0', '5', '10', '15', '20', '25', '30', '35', '40', '45']\n",
      "['0', '6', '12', '18', '24', '30', '36', '42', '48', '54']\n",
      "['0', '7', '14', '21', '28', '35', '42', '49', '56', '63']\n",
      "['0', '8', '16', '24', '32', '40', '48', '56', '64', '72']\n",
      "['0', '9', '18', '27', '36', '45', '54', '63', '72', '81']\n"
     ]
    }
   ],
   "source": [
    "with open('csvDemo.csv') as csvfile:\n",
    "    reader = csv.reader(csvfile)\n",
    "    for r in reader:\n",
    "        print(r) "
   ]
  },
  {
   "cell_type": "code",
   "execution_count": 49,
   "id": "1b8cefb5-91c6-44c7-bac9-60ecfbe5cd58",
   "metadata": {},
   "outputs": [],
   "source": [
    "with open('csvDemo.csv', 'w', newline='') as csvfile:\n",
    "    writer = csv.writer(csvfile)\n",
    "    for i in range(10):\n",
    "        row = []\n",
    "        for j in range(10):\n",
    "            row.append(i*j)\n",
    "        writer.writerow(row)"
   ]
  },
  {
   "cell_type": "code",
   "execution_count": 50,
   "id": "380b2b8f-d8e1-4c5e-86f6-54900457e178",
   "metadata": {
    "scrolled": true
   },
   "outputs": [
    {
     "name": "stdout",
     "output_type": "stream",
     "text": [
      "['0', '0', '0', '0', '0', '0', '0', '0', '0', '0']\n",
      "['0', '1', '2', '3', '4', '5', '6', '7', '8', '9']\n",
      "['0', '2', '4', '6', '8', '10', '12', '14', '16', '18']\n",
      "['0', '3', '6', '9', '12', '15', '18', '21', '24', '27']\n",
      "['0', '4', '8', '12', '16', '20', '24', '28', '32', '36']\n",
      "['0', '5', '10', '15', '20', '25', '30', '35', '40', '45']\n",
      "['0', '6', '12', '18', '24', '30', '36', '42', '48', '54']\n",
      "['0', '7', '14', '21', '28', '35', '42', '49', '56', '63']\n",
      "['0', '8', '16', '24', '32', '40', '48', '56', '64', '72']\n",
      "['0', '9', '18', '27', '36', '45', '54', '63', '72', '81']\n"
     ]
    }
   ],
   "source": [
    "with open('csvDemo.csv') as csvfile:\n",
    "    reader = csv.reader(csvfile)\n",
    "    for r in reader:\n",
    "        print(r) "
   ]
  },
  {
   "cell_type": "code",
   "execution_count": 71,
   "id": "168d244a-1891-41fe-a78a-1e1622f33f12",
   "metadata": {},
   "outputs": [],
   "source": [
    "numbers = []\n",
    "with open('csvDemo.csv') as csvfile:\n",
    "    reader = csv.reader(csvfile)\n",
    "    for r in reader:\n",
    "        numbers.append(r)\n",
    "    "
   ]
  },
  {
   "cell_type": "code",
   "execution_count": 72,
   "id": "e286b0ed-78b4-46e0-93f6-b744e44cf6a1",
   "metadata": {},
   "outputs": [
    {
     "name": "stdout",
     "output_type": "stream",
     "text": [
      "[['0', '0', '0', '0', '0', '0', '0', '0', '0', '0'], ['0', '1', '2', '3', '4', '5', '6', '7', '8', '9'], ['0', '2', '4', '6', '8', '10', '12', '14', '16', '18'], ['0', '3', '6', '9', '12', '15', '18', '21', '24', '27'], ['0', '4', '8', '12', '16', '20', '24', '28', '32', '36'], ['0', '5', '10', '15', '20', '25', '30', '35', '40', '45'], ['0', '6', '12', '18', '24', '30', '36', '42', '48', '54'], ['0', '7', '14', '21', '28', '35', '42', '49', '56', '63'], ['0', '8', '16', '24', '32', '40', '48', '56', '64', '72'], ['0', '9', '18', '27', '36', '45', '54', '63', '72', '81']]\n"
     ]
    }
   ],
   "source": [
    "print(numbers)"
   ]
  },
  {
   "cell_type": "code",
   "execution_count": 73,
   "id": "ed09c5a1-fd13-4970-9b23-a59b53f33d02",
   "metadata": {},
   "outputs": [
    {
     "name": "stdout",
     "output_type": "stream",
     "text": [
      "['0', '0', '0', '0', '0', '0', '0', '0', '0', '0']\n",
      "['0', '1', '2', '3', '4', '5', '6', '7', '8', '9']\n",
      "['0', '2', '4', '6', '8', '10', '12', '14', '16', '18']\n",
      "['0', '3', '6', '9', '12', '15', '18', '21', '24', '27']\n",
      "['0', '4', '8', '12', '16', '20', '24', '28', '32', '36']\n",
      "['0', '5', '10', '15', '20', '25', '30', '35', '40', '45']\n",
      "['0', '6', '12', '18', '24', '30', '36', '42', '48', '54']\n",
      "['0', '7', '14', '21', '28', '35', '42', '49', '56', '63']\n",
      "['0', '8', '16', '24', '32', '40', '48', '56', '64', '72']\n",
      "['0', '9', '18', '27', '36', '45', '54', '63', '72', '81']\n"
     ]
    }
   ],
   "source": [
    "for r in numbers:\n",
    "    print(r)"
   ]
  },
  {
   "cell_type": "code",
   "execution_count": 74,
   "id": "d37a43b2-c788-4909-9b7c-363438cbd477",
   "metadata": {},
   "outputs": [
    {
     "data": {
      "text/plain": [
       "[['0', '0', '0', '0', '0', '0', '0', '0', '0', '0'],\n",
       " ['0', '1', '2', '3', '4', '5', '6', '7', '8', '9'],\n",
       " ['0', '2', '4', '6', '8', '10', '12', '14', '16', '18'],\n",
       " ['0', '3', '6', '9', '12', '15', '18', '21', '24', '27'],\n",
       " ['0', '4', '8', '12', '16', '20', '24', '28', '32', '36'],\n",
       " ['0', '5', '10', '15', '20', '25', '30', '35', '40', '45'],\n",
       " ['0', '6', '12', '18', '24', '30', '36', '42', '48', '54'],\n",
       " ['0', '7', '14', '21', '28', '35', '42', '49', '56', '63'],\n",
       " ['0', '8', '16', '24', '32', '40', '48', '56', '64', '72'],\n",
       " ['0', '9', '18', '27', '36', '45', '54', '63', '72', '81']]"
      ]
     },
     "execution_count": 74,
     "metadata": {},
     "output_type": "execute_result"
    }
   ],
   "source": [
    "numbers"
   ]
  },
  {
   "cell_type": "code",
   "execution_count": 75,
   "id": "9708e0f1-e88d-43cf-aea8-72de70a04c06",
   "metadata": {},
   "outputs": [],
   "source": [
    "numbers = []"
   ]
  },
  {
   "cell_type": "code",
   "execution_count": 76,
   "id": "aaaa7301-f2af-4c47-b40c-463746bf23b7",
   "metadata": {},
   "outputs": [
    {
     "data": {
      "text/plain": [
       "[]"
      ]
     },
     "execution_count": 76,
     "metadata": {},
     "output_type": "execute_result"
    }
   ],
   "source": [
    "numbers"
   ]
  },
  {
   "cell_type": "code",
   "execution_count": 83,
   "id": "b2141831-4979-4587-a131-d15bec304c3b",
   "metadata": {},
   "outputs": [],
   "source": [
    "class Anjing:\n",
    "    def __init__(diri, nama, jenis):\n",
    "        diri.nama = nama\n",
    "        diri.jenis = jenis\n",
    "\n",
    "    def gonggong(diri):\n",
    "        return \"Woof!\""
   ]
  },
  {
   "cell_type": "code",
   "execution_count": 86,
   "id": "67e926ad-3759-4373-9473-a3a1262602e8",
   "metadata": {},
   "outputs": [],
   "source": [
    "nama_anjing = Anjing( \"Yow\",  \"Pug\")"
   ]
  },
  {
   "cell_type": "code",
   "execution_count": 87,
   "id": "6363d725-3693-4ba0-a59d-0709706de2c1",
   "metadata": {},
   "outputs": [
    {
     "data": {
      "text/plain": [
       "<__main__.Anjing at 0x1fdff0d5d90>"
      ]
     },
     "execution_count": 87,
     "metadata": {},
     "output_type": "execute_result"
    }
   ],
   "source": [
    "Anjing(\"Babi\",\"Kuda\")"
   ]
  },
  {
   "cell_type": "code",
   "execution_count": 85,
   "id": "95081792-c859-42da-8f6e-941924a38a83",
   "metadata": {},
   "outputs": [
    {
     "name": "stdout",
     "output_type": "stream",
     "text": [
      "<__main__.Anjing object at 0x000001FDFF0D4D90>\n"
     ]
    }
   ],
   "source": [
    "print(nama_anjing)"
   ]
  },
  {
   "cell_type": "code",
   "execution_count": 88,
   "id": "4cf5ce02-beaf-46d3-ab34-7cfdc3f0e9a3",
   "metadata": {},
   "outputs": [
    {
     "name": "stdout",
     "output_type": "stream",
     "text": [
      "Yow\n"
     ]
    }
   ],
   "source": [
    "print(nama_anjing.nama)"
   ]
  },
  {
   "cell_type": "code",
   "execution_count": 90,
   "id": "54e956ed-f57a-44f5-af56-e96058723df7",
   "metadata": {},
   "outputs": [
    {
     "name": "stdout",
     "output_type": "stream",
     "text": [
      "Woof!\n"
     ]
    }
   ],
   "source": [
    "print(nama_anjing.gonggong())"
   ]
  },
  {
   "cell_type": "code",
   "execution_count": 94,
   "id": "43ca5604-6512-4f99-96a9-3768abcf7b49",
   "metadata": {},
   "outputs": [],
   "source": [
    "with open('nama.csv', 'w', newline='') as csvfile:\n",
    "    fn = ['firstname','lastname']\n",
    "    writer = csv.DictWriter(csvfile, fieldnames=fn)\n",
    "\n",
    "    writer.writeheader()\n",
    "    writer.writerow({'firstname':\"Johnny\",'lastname':\"Blaze\"})\n",
    "    writer.writerow({'firstname':\"Patrick\",'lastname':\"Tjandra\"})\n",
    "    writer.writerow({'firstname':\"Maria\",'lastname':\"Claudia\"})"
   ]
  },
  {
   "cell_type": "code",
   "execution_count": 96,
   "id": "355f9850-0d5c-46e9-bbd2-b7120559e854",
   "metadata": {},
   "outputs": [
    {
     "name": "stdout",
     "output_type": "stream",
     "text": [
      "{'firstname': 'Johnny', 'lastname': 'Blaze'}\n",
      "{'firstname': 'Patrick', 'lastname': 'Tjandra'}\n",
      "{'firstname': 'Maria', 'lastname': 'Claudia'}\n"
     ]
    }
   ],
   "source": [
    "with open('nama.csv') as csvfile:\n",
    "    reader = csv.DictReader(csvfile)\n",
    "    for r in reader:\n",
    "        print(r)"
   ]
  },
  {
   "cell_type": "code",
   "execution_count": 97,
   "id": "8e2c71d7-4c9d-4db7-a4f1-198b9a556dba",
   "metadata": {},
   "outputs": [
    {
     "name": "stdout",
     "output_type": "stream",
     "text": [
      "Johnny\n",
      "Patrick\n",
      "Maria\n"
     ]
    }
   ],
   "source": [
    "with open('nama.csv') as csvfile:\n",
    "    reader = csv.DictReader(csvfile)\n",
    "    for r in reader:\n",
    "        print(r['firstname'])"
   ]
  },
  {
   "cell_type": "code",
   "execution_count": 98,
   "id": "a4566d1e-b1f1-4559-9202-2b311a083ea8",
   "metadata": {},
   "outputs": [],
   "source": [
    "with open('nama.csv', 'w', newline='') as csvfile:\n",
    "    fn = ['firstname','lastname','born']\n",
    "    writer = csv.DictWriter(csvfile, fieldnames=fn)\n",
    "\n",
    "    writer.writeheader()\n",
    "    writer.writerow({'firstname':\"Johnny\",'lastname':\"Blaze\",'born':1996})\n",
    "    writer.writerow({'firstname':\"Patrick\",'lastname':\"Tjandra\",'born':1998})\n",
    "    writer.writerow({'firstname':\"Maria\",'lastname':\"Claudia\",'born':1998})"
   ]
  },
  {
   "cell_type": "code",
   "execution_count": 100,
   "id": "429acb43-eae3-4743-a2e1-47a8900d6f2e",
   "metadata": {},
   "outputs": [
    {
     "name": "stdout",
     "output_type": "stream",
     "text": [
      "{'firstname': 'Johnny', 'lastname': 'Blaze', 'born': '1996'}\n",
      "{'firstname': 'Patrick', 'lastname': 'Tjandra', 'born': '1998'}\n",
      "{'firstname': 'Maria', 'lastname': 'Claudia', 'born': '1998'}\n"
     ]
    }
   ],
   "source": [
    "with open('nama.csv') as csvfile:\n",
    "    reader = csv.DictReader(csvfile)\n",
    "    for r in reader:\n",
    "        print(r)"
   ]
  },
  {
   "cell_type": "code",
   "execution_count": 101,
   "id": "0b901e4a-394f-4f7a-af55-a615e9f74136",
   "metadata": {},
   "outputs": [],
   "source": [
    "name_contents=[]\n",
    "with open('nama.csv') as csvfile:\n",
    "    reader = csv.DictReader(csvfile)\n",
    "    for r in reader:\n",
    "        name_contents.append(r)"
   ]
  },
  {
   "cell_type": "code",
   "execution_count": 103,
   "id": "bfee5156-6d04-4b28-bbc8-0793cd2eebad",
   "metadata": {},
   "outputs": [
    {
     "name": "stdout",
     "output_type": "stream",
     "text": [
      "[{'firstname': 'Johnny', 'lastname': 'Blaze', 'born': '1996'}, {'firstname': 'Patrick', 'lastname': 'Tjandra', 'born': '1998'}, {'firstname': 'Maria', 'lastname': 'Claudia', 'born': '1998'}]\n"
     ]
    }
   ],
   "source": [
    "print(name_contents)"
   ]
  },
  {
   "cell_type": "code",
   "execution_count": 108,
   "id": "fea7800d-3ef3-457b-93dd-fc0a98d65e98",
   "metadata": {},
   "outputs": [
    {
     "ename": "AttributeError",
     "evalue": "'list' object has no attribute 'keys'",
     "output_type": "error",
     "traceback": [
      "\u001b[1;31m---------------------------------------------------------------------------\u001b[0m",
      "\u001b[1;31mAttributeError\u001b[0m                            Traceback (most recent call last)",
      "Cell \u001b[1;32mIn[108], line 1\u001b[0m\n\u001b[1;32m----> 1\u001b[0m \u001b[38;5;28mprint\u001b[39m(\u001b[43mname_contents\u001b[49m\u001b[38;5;241;43m.\u001b[39;49m\u001b[43mkeys\u001b[49m())\n",
      "\u001b[1;31mAttributeError\u001b[0m: 'list' object has no attribute 'keys'"
     ]
    }
   ],
   "source": [
    "print(name_contents.keys())"
   ]
  },
  {
   "cell_type": "code",
   "execution_count": 109,
   "id": "50b1acc9-11aa-44d8-870f-ff3e7acba9e9",
   "metadata": {},
   "outputs": [],
   "source": [
    "grid = []\n",
    "for i in range(3):\n",
    "    row = []\n",
    "    for j in range(3):\n",
    "        column = []\n",
    "        for k in range(3):\n",
    "            column.append(i+k+j)\n",
    "        row.append(column)\n",
    "    grid.append(row)"
   ]
  },
  {
   "cell_type": "code",
   "execution_count": 110,
   "id": "23b8bb46-a501-441b-880d-5d8a218fce7f",
   "metadata": {},
   "outputs": [
    {
     "name": "stdout",
     "output_type": "stream",
     "text": [
      "[[[0, 1, 2], [1, 2, 3], [2, 3, 4]], [[1, 2, 3], [2, 3, 4], [3, 4, 5]], [[2, 3, 4], [3, 4, 5], [4, 5, 6]]]\n"
     ]
    }
   ],
   "source": [
    "print(grid)"
   ]
  },
  {
   "cell_type": "code",
   "execution_count": 111,
   "id": "79a3c45a-c442-42fc-a656-adee64431f89",
   "metadata": {},
   "outputs": [
    {
     "name": "stdout",
     "output_type": "stream",
     "text": [
      "[[0, 1, 2], [1, 2, 3], [2, 3, 4]]\n",
      "[[1, 2, 3], [2, 3, 4], [3, 4, 5]]\n",
      "[[2, 3, 4], [3, 4, 5], [4, 5, 6]]\n"
     ]
    }
   ],
   "source": [
    "for r in grid:\n",
    "    print(r)"
   ]
  },
  {
   "cell_type": "code",
   "execution_count": null,
   "id": "1207a855-8d01-4d64-bac2-674843029a95",
   "metadata": {},
   "outputs": [],
   "source": []
  }
 ],
 "metadata": {
  "kernelspec": {
   "display_name": "Python 3 (ipykernel)",
   "language": "python",
   "name": "python3"
  },
  "language_info": {
   "codemirror_mode": {
    "name": "ipython",
    "version": 3
   },
   "file_extension": ".py",
   "mimetype": "text/x-python",
   "name": "python",
   "nbconvert_exporter": "python",
   "pygments_lexer": "ipython3",
   "version": "3.11.10"
  }
 },
 "nbformat": 4,
 "nbformat_minor": 5
}
