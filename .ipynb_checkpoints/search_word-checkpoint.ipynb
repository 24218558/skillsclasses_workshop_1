{
 "cells": [
  {
   "cell_type": "code",
   "execution_count": 4,
   "id": "a23631b7-bfe4-4e04-a19d-1620e49d730a",
   "metadata": {},
   "outputs": [],
   "source": [
    "#Import Modules\n",
    "import os\n",
    "import pickle\n",
    "from sklearn.feature_extraction.text import TfidfVectorizer\n",
    "from sklearn.decomposition import TruncatedSVD"
   ]
  },
  {
   "cell_type": "code",
   "execution_count": 9,
   "id": "3ee7c932-9329-4250-b0ae-56fdc39826be",
   "metadata": {},
   "outputs": [],
   "source": [
    "#Load Database (pickle_file)\n",
    "pickle_folder = \".\\pickle_file\""
   ]
  },
  {
   "cell_type": "code",
   "execution_count": 10,
   "id": "2c30de68-fb3c-46a5-ad1e-e8c0f5ab6ed8",
   "metadata": {},
   "outputs": [],
   "source": [
    "#Load all pickle files and merge into single database\n",
    "database = []\n",
    "for pickle_file in os.listdir(pickle_folder):\n",
    "    if pickle_file.endswith('.pkl'):\n",
    "        with open(os.path.join(pickle_folder, pickle_file), \"rb\") as f:\n",
    "            database.extend(pickle.load(f))"
   ]
  },
  {
   "cell_type": "code",
   "execution_count": 11,
   "id": "2fa613d3-f80c-4208-beeb-66117117a026",
   "metadata": {},
   "outputs": [],
   "source": [
    "#Simple Search\n",
    "def simple_search(query, num_results=5):\n",
    "    results = []\n",
    "    query = query.lower()\n",
    "    for entry in database:\n",
    "        if query in entry['Processed Text'].lower():\n",
    "            results.append(entry)\n",
    "    return results[:num_results]"
   ]
  },
  {
   "cell_type": "code",
   "execution_count": 12,
   "id": "51dd230f-08d1-48b7-ac3f-98f63c903ffe",
   "metadata": {},
   "outputs": [],
   "source": [
    "#TF-IDF Search\n",
    "def tfidf_search(query, num_results=5):\n",
    "    documents = [entry['Processed Text'] for entry in database]\n",
    "    vectorizer = TfidfVectorizer()\n",
    "    tfidf_matrix = vectorizer.fit_transform(documents)\n",
    "    query_vec = vectorizer.transform([query.lower()])\n",
    "    scores = (tfidf_matrix*query_vec.T).toarray().flatten()\n",
    "    top_indices = scores.argsort()[-num_results:][::-1]\n",
    "    return [database[i] for i in top_indices]"
   ]
  },
  {
   "cell_type": "code",
   "execution_count": 13,
   "id": "a2a05aff-e549-49eb-abff-25a70fff1bf9",
   "metadata": {},
   "outputs": [],
   "source": [
    "def svd_search(query, num_results=5):\n",
    "    documents = [entry['Processed Text'] for entry in database]\n",
    "    vectorizer = TfidfVectorizer()\n",
    "    tfidf_matrix = vectorizer.fit_transform(documents)\n",
    "    svd = TruncatedSVD(n_components=100)\n",
    "    svd_matrix = svd.fit_transform(tfidf_matrix)\n",
    "    query_vec = svd.transform(vectorizer.transform([query.lower()]))\n",
    "    scores = (svd_matrix @ query_vec.T).flatten()\n",
    "    top_indices = scores.argsort()[-num_results:][::-1]\n",
    "    return [database[i] for i in top_indices]"
   ]
  },
  {
   "cell_type": "code",
   "execution_count": 27,
   "id": "64190e02-6b6e-4dee-9e6a-03e1ae8537d8",
   "metadata": {},
   "outputs": [],
   "source": [
    "#Testing"
   ]
  },
  {
   "cell_type": "code",
   "execution_count": 23,
   "id": "d1fe1caa-15f7-4b89-ab39-60a1670ac972",
   "metadata": {},
   "outputs": [
    {
     "name": "stdout",
     "output_type": "stream",
     "text": [
      "Simple Search: [{'TEXT': ' Sonny was the only one happy there. His wife and daughters always seemed washed with dread and exhaustion. You would probably go past the small shop owned by Miss Jeanne and think the bottles of dinner mints and sweet plums dull.', 'NR': 38, 'Book ID': 'A Map to the Door of No Return - Dionne Brand', 'Processed Text': 'sonni wa one happi wife daughter alway wash dread exhaust would probabl past small shop miss think bottl dinner mint sweet plum dull'}, {'TEXT': ' Being in the Diaspora braces itself in virtuosity or despair. 9 One has this sense as one observes bodies in the Diaspora, virtuosity or despair, on the brink of both. A body pushing a grocery cart through the city housing at Lawrence and Bathurst in Toronto, her laundry, her shopping all contained there, dressed as if on her way to a party, gold chain around her neck, lipstick — as if moving with all her possessions.', 'NR': 122, 'Book ID': 'A Map to the Door of No Return - Dionne Brand', 'Processed Text': 'brace virtuos despair one ha sens one bodi virtuos despair brink bodi push groceri cart citi hous laundri shop dress way parti gold chain around neck lipstick move possess'}, {'TEXT': ' 3 At seventeen on Raglan Avenue, it wasn’t wine but loneliness that woke me up to reach for Prevert, whose Paroles I had found in an old book shop. “Pierre tell me the truth” hissing through my sleep.', 'NR': 241, 'Book ID': 'A Map to the Door of No Return - Dionne Brand', 'Processed Text': 'seventeen raglan avenu wine loneli woke reach whose parol found old book shop tell truth hiss sleep'}, {'TEXT': ' I know the narrowness of the street; I know the circus I’m walking toward. I know the pace of other pedestrians and I know how long I will have to wait at a coffee shop to be noticed and then to ask for my coffee.', 'NR': 347, 'Book ID': 'A Map to the Door of No Return - Dionne Brand', 'Processed Text': 'know narrow street know circu walk toward know pace pedestrian know long wait coffe shop ask coffe'}, {'TEXT': ' I remember another shebeen — a rum shop, it’s called there — in a village in Dominica. One night some friends and I drive through country darkness, stopped where the car could go no further, and climbed a hill, bumping into tree stumps, arriving at a rum shop.', 'NR': 443, 'Book ID': 'A Map to the Door of No Return - Dionne Brand', 'Processed Text': 'rememb anoth shebeen rum shop villag one night friend drive countri dark stop car could hill bump tree stump rum shop'}]\n"
     ]
    }
   ],
   "source": [
    "query = \"shop\"\n",
    "print(\"Simple Search:\", simple_search(query))"
   ]
  },
  {
   "cell_type": "code",
   "execution_count": 24,
   "id": "7c6a75bb-82c3-48b5-830f-1835f6588a68",
   "metadata": {},
   "outputs": [
    {
     "name": "stdout",
     "output_type": "stream",
     "text": [
      "TF-IDF Search: [{'TEXT': 'Early on, we did everything we could to avoid exhibiting work in a white cube and everything it stood for. We showed in shop windows, homes, shopping centers, cafes, gardens. But always, the work became about the space itself, or the context, rather than the ideas we wished to explore.', 'NR': 623, 'Book ID': 'Speculative Everything by Anthony Dunne', 'Processed Text': 'earli everyth could avoid work white cube everyth stood shop window home shop center garden alway work space context rather idea wish explor'}, {'TEXT': ' I remember another shebeen — a rum shop, it’s called there — in a village in Dominica. One night some friends and I drive through country darkness, stopped where the car could go no further, and climbed a hill, bumping into tree stumps, arriving at a rum shop.', 'NR': 443, 'Book ID': 'A Map to the Door of No Return - Dionne Brand', 'Processed Text': 'rememb anoth shebeen rum shop villag one night friend drive countri dark stop car could hill bump tree stump rum shop'}, {'TEXT': ' This trend is also reflected in “free stores” or “give-away shops,” which work like second-hand shops, just without money and without the logic of exchange. These are not to be understood as places where things are “given,” that is, transferred from one private owner to another, but as places where people bring things that have “fallen out of possession,” since they are no longer used.', 'NR': 2568, 'Book ID': 'Society After Money Dialogue', 'Processed Text': 'trend also reflect free store give away shop work like second hand shop without money without logic exchang understood place thing given transfer one privat owner anoth place peopl bring thing fallen possess sinc longer use'}, {'TEXT': ' On one of his visits to Sacramento he discovered an opportunity in commerce, and so opened a general store on K Street, not far from where Leland Stanford set up shop..', 'NR': 2106, 'Book ID': 'The Age of Gold - H. W. Brands', 'Processed Text': 'one visit discov opportun commerc gener store street far set shop'}, {'TEXT': ' Being a ritual passage as a part of a pastoral Herculean landscape, the latter was like the Via Tecta in Pergamon in that it was multi-functional and included market halls and shops (Tilburg, 2007, p.', 'NR': 390, 'Book ID': 'Architecture and the Body by Kim Sexton', 'Processed Text': 'ritual passag part pastor landscap latter wa like via wa function includ market hall shop'}]\n"
     ]
    }
   ],
   "source": [
    "query = \"shop\"\n",
    "print(\"TF-IDF Search:\", tfidf_search(query))"
   ]
  },
  {
   "cell_type": "code",
   "execution_count": 26,
   "id": "f92f0e31-3f5c-4b79-8bbd-21d09ade4ef7",
   "metadata": {},
   "outputs": [
    {
     "name": "stdout",
     "output_type": "stream",
     "text": [
      "SVD Search: [{'TEXT': ' Figure 11.1 Van den Broek and Bakema, Het Dorp, Arnhem, Netherlands, 1963–65, aerial perspective view from the southwest (‘Het Dorp: A Village’) Photo: Collection Het Nieuwe Instituut/BROX Figure 11.2 Het Dorp, (a) (above) view of shops from plaza; (b) (below) residents in road among low housing units near the top of the site Photos: author Several things are striking about the village Bakema and the Dutch public built.', 'NR': 1786, 'Book ID': 'Architecture and the Body by Kim Sexton', 'Processed Text': 'figur van den het dorp aerial perspect view southwest het dorp villag photo collect het figur het dorp view shop plaza resid road among low hous unit near top site photo author sever thing strike villag dutch public built'}, {'TEXT': '1 Van den Broek and Bakema, Het Dorp, Arnhem, Netherlands, 1963–65 11.2 Het Dorp, view of shops from plaza; residents in road among low housing units near the top of the site 11.3 Het Dorp, sectional elevations of building phase 4 (‘Het Dorp: A Village’); Jachtweg (Hunt Way), the first completed street/phase, with brick floor 11.', 'NR': 34, 'Book ID': 'Architecture and the Body by Kim Sexton', 'Processed Text': 'van den het dorp het dorp view shop plaza resid road among low hous unit near top site het dorp section elev build phase het dorp villag hunt way first street phase brick floor'}, {'TEXT': 'P. Bijleveld, Het Dorp’s director from 1966 to 1978, compared to integrating black and white families in U.S. residential neighborhoods (‘Het Dorp: A Village,’ 1971, p. 57). The commercial zone depended on customers from both Het Dorp and outside, thereby enabling a limited intermingling of disabled and able-bodied populations (‘Het Dorp: A Village,’ 1971, pp.', 'NR': 1831, 'Book ID': 'Architecture and the Body by Kim Sexton', 'Processed Text': 'het dorp director black white famili residenti neighborhood het dorp villag commerci zone custom het dorp outsid therebi limit disabl abl bodi popul het dorp villag'}, {'TEXT': ' Het Dorp. Architectural Review, 149, 227–36. Het Dorp van de grond. (1966, June 14). [Television broadcast]. The Netherlands: AVRO. Het Dorp Kwam Er. (1967, November 27). [Television broadcast]. The Netherlands: AVRO.', 'NR': 1948, 'Book ID': 'Architecture and the Body by Kim Sexton', 'Processed Text': 'het dorp architectur review het dorp van june televis broadcast het dorp televis broadcast'}, {'TEXT': ' The Netherlands: AVRO. Het Dorp Na 7.5 Jaar Officiel Geopend. (1970, May 30). [Television broadcast]. The Netherlands: AVRO. Het Dorp: A Village for the Handicapped in Arnhem, Netherlands. (1971). Plan: maandblad voor ontwerp en omgeving, 4, 54–70.', 'NR': 2206, 'Book ID': 'Architecture and the Body by Kim Sexton', 'Processed Text': 'het dorp may televis broadcast het dorp villag handicap plan'}]\n"
     ]
    }
   ],
   "source": [
    "query = \"shop\"\n",
    "print(\"SVD Search:\", svd_search(query))"
   ]
  }
 ],
 "metadata": {
  "kernelspec": {
   "display_name": "Python 3 (ipykernel)",
   "language": "python",
   "name": "python3"
  },
  "language_info": {
   "codemirror_mode": {
    "name": "ipython",
    "version": 3
   },
   "file_extension": ".py",
   "mimetype": "text/x-python",
   "name": "python",
   "nbconvert_exporter": "python",
   "pygments_lexer": "ipython3",
   "version": "3.11.10"
  }
 },
 "nbformat": 4,
 "nbformat_minor": 5
}
